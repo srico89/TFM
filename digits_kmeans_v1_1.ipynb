{
  "nbformat": 4,
  "nbformat_minor": 0,
  "metadata": {
    "colab": {
      "provenance": []
    },
    "kernelspec": {
      "display_name": "Python 3",
      "language": "python",
      "name": "python3"
    },
    "language_info": {
      "codemirror_mode": {
        "name": "ipython",
        "version": 3
      },
      "file_extension": ".py",
      "mimetype": "text/x-python",
      "name": "python",
      "nbconvert_exporter": "python",
      "pygments_lexer": "ipython3",
      "version": "3.8.3"
    }
  },
  "cells": [
    {
      "cell_type": "markdown",
      "metadata": {
        "id": "6lamR9H4oAXx"
      },
      "source": [
        "## Este ejercicio tiene como objetivo explicar la construccion de un modelo de K-Means para realizar la clasificación de dígitos en imágenes usando K-means y la librería Sklearn"
      ]
    },
    {
      "cell_type": "code",
      "metadata": {
        "id": "jPoT5IL3IT0I"
      },
      "source": [
        "%matplotlib inline\n",
        "import matplotlib.pyplot as plt\n",
        "import seaborn as sns; sns.set()  # for plot styling\n",
        "import numpy as np\n",
        "import pandas as pd\n",
        "from scipy.spatial import distance"
      ],
      "execution_count": 2,
      "outputs": []
    },
    {
      "cell_type": "code",
      "metadata": {
        "id": "8eKIKtexpzU0",
        "outputId": "92ae1b1e-68b9-4b20-8973-199d0b170aef",
        "colab": {
          "base_uri": "https://localhost:8080/"
        }
      },
      "source": [
        "from sklearn.datasets import load_digits\n",
        "from sklearn.cluster import KMeans\n",
        "digits = load_digits()\n",
        "digits.data.shape"
      ],
      "execution_count": 3,
      "outputs": [
        {
          "output_type": "execute_result",
          "data": {
            "text/plain": [
              "(1797, 64)"
            ]
          },
          "metadata": {},
          "execution_count": 3
        }
      ]
    },
    {
      "cell_type": "code",
      "metadata": {
        "id": "luF6dBGoOBt4"
      },
      "source": [
        "from sklearn.model_selection import train_test_split\n",
        "\n",
        "Xtrain, Xtest, ytrain, ytest = train_test_split(digits.data, digits.target,random_state=0,stratify = digits.target)"
      ],
      "execution_count": 4,
      "outputs": []
    },
    {
      "cell_type": "code",
      "metadata": {
        "id": "h0Wm9sR0rbJe",
        "outputId": "21275a68-6122-442c-a2a8-ec6007a9d9a2",
        "colab": {
          "base_uri": "https://localhost:8080/"
        }
      },
      "source": [
        "kmeans = KMeans(n_clusters=10, random_state=0).fit(Xtrain)"
      ],
      "execution_count": 5,
      "outputs": [
        {
          "output_type": "stream",
          "name": "stderr",
          "text": [
            "/usr/local/lib/python3.10/dist-packages/sklearn/cluster/_kmeans.py:870: FutureWarning: The default value of `n_init` will change from 10 to 'auto' in 1.4. Set the value of `n_init` explicitly to suppress the warning\n",
            "  warnings.warn(\n"
          ]
        }
      ]
    },
    {
      "cell_type": "code",
      "metadata": {
        "id": "9m8uf7MlMwlM",
        "outputId": "ba9550d0-7924-45ad-88bf-97a9abd0bf65",
        "colab": {
          "base_uri": "https://localhost:8080/"
        }
      },
      "source": [
        "kmeans.cluster_centers_"
      ],
      "execution_count": 6,
      "outputs": [
        {
          "output_type": "execute_result",
          "data": {
            "text/plain": [
              "array([[ 0.00000000e+00,  2.98507463e-02,  4.18656716e+00,\n",
              "         1.31492537e+01,  1.11343284e+01,  2.94776119e+00,\n",
              "         3.73134328e-02,  1.38777878e-17,  4.33680869e-18,\n",
              "         8.95522388e-01,  1.24701493e+01,  1.31716418e+01,\n",
              "         1.12835821e+01,  1.13805970e+01,  1.03731343e+00,\n",
              "         1.94289029e-16, -1.73472348e-18,  3.79104478e+00,\n",
              "         1.39925373e+01,  5.29104478e+00,  2.20895522e+00,\n",
              "         1.22686567e+01,  3.64179104e+00, -5.55111512e-17,\n",
              "         0.00000000e+00,  5.23880597e+00,  1.25746269e+01,\n",
              "         2.17910448e+00,  2.98507463e-01,  9.31343284e+00,\n",
              "         6.34328358e+00,  4.33680869e-19,  0.00000000e+00,\n",
              "         5.90298507e+00,  1.14402985e+01,  8.95522388e-01,\n",
              "         1.49253731e-02,  9.12686567e+00,  7.04477612e+00,\n",
              "         0.00000000e+00, -4.33680869e-18,  3.52985075e+00,\n",
              "         1.31940299e+01,  1.69402985e+00,  1.46268657e+00,\n",
              "         1.15149254e+01,  5.71641791e+00, -1.04083409e-17,\n",
              "        -2.16840434e-18,  8.58208955e-01,  1.32686567e+01,\n",
              "         9.87313433e+00,  1.04477612e+01,  1.32611940e+01,\n",
              "         2.44029851e+00,  2.98507463e-02, -8.67361738e-19,\n",
              "         7.46268657e-03,  4.26865672e+00,  1.35820896e+01,\n",
              "         1.33059701e+01,  5.37313433e+00,  3.28358209e-01,\n",
              "         2.23880597e-02],\n",
              "       [ 0.00000000e+00,  1.39393939e-01,  4.09090909e+00,\n",
              "         1.18484848e+01,  1.23454545e+01,  5.37575758e+00,\n",
              "         4.54545455e-01, -1.38777878e-16,  1.21212121e-02,\n",
              "         8.60606061e-01,  8.13939394e+00,  1.36121212e+01,\n",
              "         1.27090909e+01,  1.00909091e+01,  1.61818182e+00,\n",
              "         1.24900090e-16, -1.51788304e-18,  1.12121212e+00,\n",
              "         8.16363636e+00,  1.19636364e+01,  1.25030303e+01,\n",
              "         9.89090909e+00,  1.06060606e+00, -4.85722573e-17,\n",
              "         0.00000000e+00,  8.84848485e-01,  7.08484848e+00,\n",
              "         1.43151515e+01,  1.43454545e+01,  5.04242424e+00,\n",
              "         2.18181818e-01,  2.60208521e-18,  0.00000000e+00,\n",
              "         7.87878788e-01,  8.15757576e+00,  1.49515152e+01,\n",
              "         1.29393939e+01,  2.36363636e+00,  1.21212121e-02,\n",
              "         0.00000000e+00, -6.93889390e-18,  1.24242424e+00,\n",
              "         1.08303030e+01,  1.20121212e+01,  1.19696970e+01,\n",
              "         4.13333333e+00,  1.63636364e-01, -2.42861287e-17,\n",
              "         1.81818182e-02,  9.45454545e-01,  1.00848485e+01,\n",
              "         1.17030303e+01,  1.18242424e+01,  5.35757576e+00,\n",
              "         4.90909091e-01,  3.05311332e-16,  6.06060606e-03,\n",
              "         1.39393939e-01,  4.35757576e+00,  1.21030303e+01,\n",
              "         1.25090909e+01,  4.66666667e+00,  8.06060606e-01,\n",
              "         1.66533454e-16],\n",
              "       [ 0.00000000e+00,  6.41791045e-01,  8.90298507e+00,\n",
              "         1.45970149e+01,  1.38432836e+01,  6.67910448e+00,\n",
              "         6.64179104e-01,  1.38777878e-17,  7.46268657e-03,\n",
              "         4.12686567e+00,  1.25447761e+01,  9.17164179e+00,\n",
              "         1.13880597e+01,  1.16641791e+01,  1.88805970e+00,\n",
              "         1.49253731e-02, -1.73472348e-18,  1.81343284e+00,\n",
              "         3.85820896e+00,  3.79850746e+00,  1.17835821e+01,\n",
              "         9.69402985e+00,  7.76119403e-01, -5.55111512e-17,\n",
              "         0.00000000e+00,  6.71641791e-02,  9.70149254e-01,\n",
              "         8.12686567e+00,  1.38283582e+01,  6.78358209e+00,\n",
              "         2.31343284e-01,  4.33680869e-19,  0.00000000e+00,\n",
              "         2.23880597e-02,  6.04477612e-01,  4.35820896e+00,\n",
              "         1.17910448e+01,  1.21343284e+01,  2.09701493e+00,\n",
              "         0.00000000e+00, -4.33680869e-18,  4.47761194e-01,\n",
              "         1.44776119e+00,  7.01492537e-01,  4.48507463e+00,\n",
              "         1.25074627e+01,  5.93283582e+00,  7.46268657e-03,\n",
              "        -2.16840434e-18,  1.05223881e+00,  7.67910448e+00,\n",
              "         6.85820896e+00,  8.97761194e+00,  1.37462687e+01,\n",
              "         5.58955224e+00,  2.01492537e-01, -8.67361738e-19,\n",
              "         5.22388060e-01,  9.51492537e+00,  1.49477612e+01,\n",
              "         1.40373134e+01,  8.69402985e+00,  1.80597015e+00,\n",
              "         5.22388060e-01],\n",
              "       [ 0.00000000e+00,  3.33066907e-16,  1.15942029e+00,\n",
              "         1.11376812e+01,  9.75362319e+00,  1.36231884e+00,\n",
              "         2.22044605e-15, -4.16333634e-17,  4.33680869e-18,\n",
              "         5.79710145e-02,  7.11594203e+00,  1.46159420e+01,\n",
              "         6.42753623e+00,  6.88405797e-01,  1.77635684e-15,\n",
              "         1.66533454e-16, -1.95156391e-18,  7.24637681e-01,\n",
              "         1.24130435e+01,  9.60144928e+00,  1.03623188e+00,\n",
              "         5.79710145e-02,  1.11022302e-15, -6.24500451e-17,\n",
              "         0.00000000e+00,  2.30434783e+00,  1.37246377e+01,\n",
              "         8.04347826e+00,  3.76086957e+00,  1.77536232e+00,\n",
              "         1.01449275e-01,  8.67361738e-19,  0.00000000e+00,\n",
              "         3.47826087e+00,  1.47971014e+01,  1.29130435e+01,\n",
              "         1.23623188e+01,  1.02608696e+01,  2.69565217e+00,\n",
              "         0.00000000e+00, -5.20417043e-18,  1.81884058e+00,\n",
              "         1.44855072e+01,  1.06594203e+01,  5.45652174e+00,\n",
              "         1.00869565e+01,  9.18115942e+00,  1.73913043e-01,\n",
              "        -2.60208521e-18,  1.81159420e-01,  1.02898551e+01,\n",
              "         1.26086957e+01,  5.49275362e+00,  1.13550725e+01,\n",
              "         1.09275362e+01,  6.08695652e-01, -9.75781955e-19,\n",
              "         0.00000000e+00,  1.38405797e+00,  1.06594203e+01,\n",
              "         1.50724638e+01,  1.30942029e+01,  4.60144928e+00,\n",
              "         2.17391304e-01],\n",
              "       [ 0.00000000e+00,  8.89763780e-01,  9.06299213e+00,\n",
              "         1.30393701e+01,  1.40944882e+01,  1.26456693e+01,\n",
              "         4.60629921e+00,  3.07086614e-01,  7.87401575e-03,\n",
              "         4.16535433e+00,  1.46141732e+01,  1.25039370e+01,\n",
              "         8.50393701e+00,  7.56692913e+00,  3.11023622e+00,\n",
              "         2.51968504e-01, -1.30104261e-18,  5.77952756e+00,\n",
              "         1.43228346e+01,  5.51181102e+00,  1.96850394e+00,\n",
              "         2.25984252e+00,  1.06299213e+00,  2.36220472e-02,\n",
              "         0.00000000e+00,  5.28346457e+00,  1.46299213e+01,\n",
              "         1.17007874e+01,  7.97637795e+00,  3.59055118e+00,\n",
              "         4.48818898e-01,  4.33680869e-19,  0.00000000e+00,\n",
              "         1.88188976e+00,  7.72440945e+00,  9.42519685e+00,\n",
              "         1.03070866e+01,  5.96850394e+00,  6.22047244e-01,\n",
              "         0.00000000e+00, -4.33680869e-18,  3.62204724e-01,\n",
              "         1.29921260e+00,  4.55905512e+00,  1.04488189e+01,\n",
              "         6.76377953e+00,  6.77165354e-01, -6.93889390e-18,\n",
              "        -2.16840434e-18,  8.26771654e-01,  4.66929134e+00,\n",
              "         9.30708661e+00,  1.22834646e+01,  4.84251969e+00,\n",
              "         3.85826772e-01,  2.77555756e-16, -6.50521303e-19,\n",
              "         8.34645669e-01,  9.84251969e+00,  1.45433071e+01,\n",
              "         7.88188976e+00,  1.00000000e+00,  2.36220472e-02,\n",
              "        -1.11022302e-16],\n",
              "       [ 0.00000000e+00,  9.19708029e-01,  1.01167883e+01,\n",
              "         1.43722628e+01,  7.54014599e+00,  9.92700730e-01,\n",
              "         2.22044605e-15, -4.16333634e-17,  2.91970803e-02,\n",
              "         5.21167883e+00,  1.35401460e+01,  1.28102190e+01,\n",
              "         1.14963504e+01,  3.09489051e+00,  2.18978102e-02,\n",
              "         1.52655666e-16,  1.45985401e-02,  4.32846715e+00,\n",
              "         8.16788321e+00,  6.34306569e+00,  1.21386861e+01,\n",
              "         3.43065693e+00,  2.18978102e-02, -6.24500451e-17,\n",
              "         0.00000000e+00,  7.51824818e-01,  2.79562044e+00,\n",
              "         7.21897810e+00,  1.28175182e+01,  2.34306569e+00,\n",
              "         5.10948905e-02,  8.67361738e-19,  0.00000000e+00,\n",
              "        -8.88178420e-16,  1.57664234e+00,  1.01678832e+01,\n",
              "         1.08759124e+01,  1.36496350e+00, -4.44089210e-15,\n",
              "         0.00000000e+00, -5.20417043e-18,  2.70072993e-01,\n",
              "         4.48905109e+00,  1.14160584e+01,  7.78102190e+00,\n",
              "         2.71532847e+00,  1.02189781e+00,  1.45985401e-02,\n",
              "        -2.60208521e-18,  1.13138686e+00,  1.12627737e+01,\n",
              "         1.38832117e+01,  1.22262774e+01,  1.15839416e+01,\n",
              "         7.90510949e+00,  1.22627737e+00, -9.75781955e-19,\n",
              "         9.05109489e-01,  1.02043796e+01,  1.42335766e+01,\n",
              "         1.32773723e+01,  1.20583942e+01,  8.81751825e+00,\n",
              "         2.96350365e+00],\n",
              "       [ 0.00000000e+00,  3.33066907e-16,  3.41269841e-01,\n",
              "         7.39682540e+00,  1.18492063e+01,  1.85714286e+00,\n",
              "         1.50793651e-01,  7.14285714e-02,  4.33680869e-18,\n",
              "         7.93650794e-03,  3.29365079e+00,  1.38730159e+01,\n",
              "         8.44444444e+00,  1.55555556e+00,  7.46031746e-01,\n",
              "         2.93650794e-01, -1.30104261e-18,  5.31746032e-01,\n",
              "         1.09285714e+01,  1.15238095e+01,  4.46825397e+00,\n",
              "         5.52380952e+00,  3.48412698e+00,  2.77777778e-01,\n",
              "         0.00000000e+00,  4.71428571e+00,  1.47857143e+01,\n",
              "         5.89682540e+00,  7.12698413e+00,  1.07460317e+01,\n",
              "         6.18253968e+00,  1.58730159e-02,  0.00000000e+00,\n",
              "         8.79365079e+00,  1.48015873e+01,  9.03968254e+00,\n",
              "         1.27619048e+01,  1.43253968e+01,  5.49206349e+00,\n",
              "         0.00000000e+00,  7.93650794e-02,  6.44444444e+00,\n",
              "         1.21746032e+01,  1.29047619e+01,  1.50793651e+01,\n",
              "         1.05793651e+01,  1.59523810e+00, -3.46944695e-18,\n",
              "         1.58730159e-02,  9.92063492e-01,  2.89682540e+00,\n",
              "         8.04761905e+00,  1.40873016e+01,  3.83333333e+00,\n",
              "         2.38095238e-02,  2.77555756e-16, -6.50521303e-19,\n",
              "         3.17460317e-02,  4.28571429e-01,  8.08730159e+00,\n",
              "         1.22777778e+01,  1.65079365e+00,  4.44089210e-16,\n",
              "        -1.11022302e-16],\n",
              "       [ 0.00000000e+00,  1.61290323e-01,  6.30645161e+00,\n",
              "         1.24139785e+01,  1.17849462e+01,  5.52688172e+00,\n",
              "         5.43010753e-01,  1.07526882e-02,  5.37634409e-03,\n",
              "         2.40322581e+00,  1.40053763e+01,  9.18279570e+00,\n",
              "         9.31720430e+00,  1.05161290e+01,  1.17741935e+00,\n",
              "         5.37634409e-03, -1.51788304e-18,  4.26881720e+00,\n",
              "         1.27741935e+01,  4.17741935e+00,  6.86021505e+00,\n",
              "         1.12526882e+01,  1.90860215e+00, -4.85722573e-17,\n",
              "         0.00000000e+00,  2.31182796e+00,  1.03225806e+01,\n",
              "         1.18387097e+01,  1.32204301e+01,  1.20645161e+01,\n",
              "         2.51075269e+00,  3.46944695e-18,  0.00000000e+00,\n",
              "         3.27956989e-01,  3.13978495e+00,  6.18279570e+00,\n",
              "         6.88172043e+00,  1.08924731e+01,  4.24193548e+00,\n",
              "         0.00000000e+00, -8.67361738e-18,  2.20430108e-01,\n",
              "         2.29032258e+00,  2.09139785e+00,  1.75268817e+00,\n",
              "         1.10000000e+01,  6.19892473e+00, -3.12250226e-17,\n",
              "        -4.33680869e-18,  7.20430108e-01,  7.96236559e+00,\n",
              "         5.54301075e+00,  4.61290323e+00,  1.24032258e+01,\n",
              "         5.69354839e+00,  1.07526882e-01, -7.58941521e-19,\n",
              "         1.45161290e-01,  6.20967742e+00,  1.33870968e+01,\n",
              "         1.45161290e+01,  9.81182796e+00,  2.07526882e+00,\n",
              "         8.60215054e-02],\n",
              "       [ 0.00000000e+00,  5.55111512e-17,  1.44927536e-02,\n",
              "         1.92753623e+00,  1.06811594e+01,  1.30434783e+01,\n",
              "         5.07246377e+00,  6.52173913e-01,  8.67361738e-19,\n",
              "         4.34782609e-02,  2.08695652e+00,  9.26086957e+00,\n",
              "         1.32028986e+01,  1.22463768e+01,  6.44927536e+00,\n",
              "         7.97101449e-01,  6.50521303e-19,  1.43478261e+00,\n",
              "         8.21739130e+00,  1.15797101e+01,  1.05072464e+01,\n",
              "         1.21884058e+01,  5.18840580e+00,  3.33333333e-01,\n",
              "         0.00000000e+00,  3.10144928e+00,  1.13043478e+01,\n",
              "         1.12463768e+01,  1.24492754e+01,  1.36956522e+01,\n",
              "         3.47826087e+00, -8.67361738e-19,  0.00000000e+00,\n",
              "         2.10144928e+00,  7.53623188e+00,  7.79710145e+00,\n",
              "         1.17971014e+01,  1.30000000e+01,  2.21739130e+00,\n",
              "         0.00000000e+00,  2.60208521e-18,  8.40579710e-01,\n",
              "         2.23188406e+00,  3.13043478e+00,  1.09710145e+01,\n",
              "         1.21594203e+01,  1.21739130e+00,  1.73472348e-17,\n",
              "         1.30104261e-18,  4.34782609e-02,  1.44927536e-01,\n",
              "         2.42028986e+00,  1.21594203e+01,  1.07826087e+01,\n",
              "         1.39130435e+00,  1.94289029e-16,  3.25260652e-19,\n",
              "        -1.66533454e-16,  4.44089210e-15,  2.13043478e+00,\n",
              "         1.10000000e+01,  1.00289855e+01,  1.42028986e+00,\n",
              "        -1.11022302e-16],\n",
              "       [ 0.00000000e+00,  2.13740458e-01,  5.51908397e+00,\n",
              "         1.33511450e+01,  1.43358779e+01,  1.06335878e+01,\n",
              "         4.38167939e+00,  5.03816794e-01,  4.33680869e-18,\n",
              "         1.29770992e+00,  1.10229008e+01,  1.13435115e+01,\n",
              "         1.10152672e+01,  1.25496183e+01,  4.38931298e+00,\n",
              "         1.37404580e-01, -1.51788304e-18,  8.24427481e-01,\n",
              "         4.48854962e+00,  1.90839695e+00,  7.83969466e+00,\n",
              "         1.16488550e+01,  2.29007634e+00,  2.29007634e-02,\n",
              "         0.00000000e+00,  6.87022901e-01,  4.26717557e+00,\n",
              "         7.02290076e+00,  1.29770992e+01,  1.22519084e+01,\n",
              "         5.09923664e+00,  7.63358779e-03,  0.00000000e+00,\n",
              "         1.64122137e+00,  9.76335878e+00,  1.42366412e+01,\n",
              "         1.50458015e+01,  1.09465649e+01,  4.43511450e+00,\n",
              "         0.00000000e+00, -4.33680869e-18,  1.05343511e+00,\n",
              "         5.66412214e+00,  1.24580153e+01,  1.05572519e+01,\n",
              "         3.44274809e+00,  5.80152672e-01, -6.93889390e-18,\n",
              "        -2.16840434e-18,  9.16030534e-02,  3.37404580e+00,\n",
              "         1.26106870e+01,  5.51908397e+00,  2.51908397e-01,\n",
              "         0.00000000e+00,  2.77555756e-16, -7.58941521e-19,\n",
              "         1.52671756e-01,  7.07633588e+00,  1.16259542e+01,\n",
              "         2.00000000e+00,  6.87022901e-02,  4.44089210e-16,\n",
              "        -1.11022302e-16]])"
            ]
          },
          "metadata": {},
          "execution_count": 6
        }
      ]
    },
    {
      "cell_type": "code",
      "metadata": {
        "id": "ihZgQ9J1rgaT",
        "outputId": "a199a097-5cbc-468a-bf17-3c2f48a88fe6",
        "colab": {
          "base_uri": "https://localhost:8080/",
          "height": 268
        }
      },
      "source": [
        "fig, ax = plt.subplots(2, 5, figsize=(8, 3))\n",
        "numbers = kmeans.cluster_centers_.reshape(10, 8, 8)\n",
        "for axi, number in zip(ax.flat, numbers):\n",
        "    axi.set(xticks=[], yticks=[])\n",
        "    axi.imshow(number, interpolation='nearest', cmap=plt.cm.binary)"
      ],
      "execution_count": 7,
      "outputs": [
        {
          "output_type": "display_data",
          "data": {
            "text/plain": [
              "<Figure size 800x300 with 10 Axes>"
            ],
            "image/png": "[encoded data removed]"
          },
          "metadata": {}
        }
      ]
    },
    {
      "cell_type": "code",
      "metadata": {
        "id": "9j6h05Res1xo",
        "outputId": "2e8f7a78-fc54-46ce-9697-f87bd095fffc",
        "colab": {
          "base_uri": "https://localhost:8080/",
          "height": 794
        }
      },
      "source": [
        "ypred = kmeans.predict(Xtest)\n",
        "\n",
        "for i in range(0,10):\n",
        "\n",
        "    row = np.where(ypred==i)[0]  # las filas en ypred que corresponden al cluster i\n",
        "    num = row.shape[0]       #  Elementos de cada cluster\n",
        "    r = int(np.floor(num/65))    #  Numero de filas para las figuras en el plot\n",
        "\n",
        "    print(\"cluster \"+str(i))\n",
        "    print(str(num)+\" elementos\")\n",
        "\n",
        "    plt.figure(figsize=(25,5))\n",
        "    for k in range(0, num):\n",
        "        plt.subplot(r+1, 65, k+1)\n",
        "        image = Xtest[row[k], ]\n",
        "        image = image.reshape(8, 8)\n",
        "        plt.imshow(image, cmap='gray')\n",
        "        plt.axis('off')\n",
        "    plt.show()"
      ],
      "execution_count": 8,
      "outputs": [
        {
          "output_type": "stream",
          "name": "stdout",
          "text": [
            "cluster 0\n",
            "45 elementos\n"
          ]
        },
        {
          "output_type": "display_data",
          "data": {
            "text/plain": [
              "<Figure size 2500x500 with 45 Axes>"
            ],
            "image/png": "[encoded data removed]"
          },
          "metadata": {}
        },
        {
          "output_type": "stream",
          "name": "stdout",
          "text": [
            "cluster 1\n",
            "58 elementos\n"
          ]
        },
        {
          "output_type": "display_data",
          "data": {
            "text/plain": [
              "<Figure size 2500x500 with 58 Axes>"
            ],
            "image/png": "[encoded data removed]"
          },
          "metadata": {}
        },
        {
          "output_type": "stream",
          "name": "stdout",
          "text": [
            "cluster 2\n",
            "45 elementos\n"
          ]
        },
        {
          "output_type": "display_data",
          "data": {
            "text/plain": [
              "<Figure size 2500x500 with 45 Axes>"
            ],
            "image/png": "[encoded data removed]"
          },
          "metadata": {}
        },
        {
          "output_type": "stream",
          "name": "stdout",
          "text": [
            "cluster 3\n",
            "44 elementos\n"
          ]
        },
        {
          "output_type": "display_data",
          "data": {
            "text/plain": [
              "<Figure size 2500x500 with 44 Axes>"
            ],
            "image/png": "[encoded data removed]"
          },
          "metadata": {}
        },
        {
          "output_type": "stream",
          "name": "stdout",
          "text": [
            "cluster 4\n",
            "41 elementos\n"
          ]
        },
        {
          "output_type": "display_data",
          "data": {
            "text/plain": [
              "<Figure size 2500x500 with 41 Axes>"
            ],
            "image/png": "[encoded data removed]"
          },
          "metadata": {}
        },
        {
          "output_type": "stream",
          "name": "stdout",
          "text": [
            "cluster 5\n",
            "38 elementos\n"
          ]
        },
        {
          "output_type": "display_data",
          "data": {
            "text/plain": [
              "<Figure size 2500x500 with 38 Axes>"
            ],
            "image/png": "[encoded data removed]"
          },
          "metadata": {}
        },
        {
          "output_type": "stream",
          "name": "stdout",
          "text": [
            "cluster 6\n",
            "38 elementos\n"
          ]
        },
        {
          "output_type": "display_data",
          "data": {
            "text/plain": [
              "<Figure size 2500x500 with 38 Axes>"
            ],
            "image/png": "[encoded data removed]"
          },
          "metadata": {}
        },
        {
          "output_type": "stream",
          "name": "stdout",
          "text": [
            "cluster 7\n",
            "61 elementos\n"
          ]
        },
        {
          "output_type": "display_data",
          "data": {
            "text/plain": [
              "<Figure size 2500x500 with 61 Axes>"
            ],
            "image/png": "[encoded data removed]"
          },
          "metadata": {}
        },
        {
          "output_type": "stream",
          "name": "stdout",
          "text": [
            "cluster 8\n",
            "28 elementos\n"
          ]
        },
        {
          "output_type": "display_data",
          "data": {
            "text/plain": [
              "<Figure size 2500x500 with 28 Axes>"
            ],
            "image/png": "[encoded data removed]"
          },
          "metadata": {}
        },
        {
          "output_type": "stream",
          "name": "stdout",
          "text": [
            "cluster 9\n",
            "52 elementos\n"
          ]
        },
        {
          "output_type": "display_data",
          "data": {
            "text/plain": [
              "<Figure size 2500x500 with 52 Axes>"
            ],
            "image/png": "[encoded data removed]"
          },
          "metadata": {}
        }
      ]
    }
  ]
}